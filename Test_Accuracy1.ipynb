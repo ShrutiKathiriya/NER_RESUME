{
 "cells": [
  {
   "cell_type": "code",
   "execution_count": 1,
   "metadata": {},
   "outputs": [],
   "source": [
    "import docx2txt\n",
    "import PyPDF2\n",
    "from pdf2docx import Converter\n",
    "from sklearn.feature_extraction.text import CountVectorizer\n",
    "from sklearn.metrics.pairwise import cosine_similarity"
   ]
  },
  {
   "cell_type": "code",
   "execution_count": 2,
   "metadata": {},
   "outputs": [
    {
     "name": "stdout",
     "output_type": "stream",
     "text": [
      "Google Software Engineer Job Description\n",
      "\n",
      "In School or graduated within last 6 months? we encourage you to zapple to openings on the students job site.\n",
      "\n",
      "Minimum Qualifications:\n",
      "\n",
      "BS degree in computer Science,similar technical field of study or equivalent practical experience.\n",
      "\n",
      "software development experience in one or more gneral purpose pogramming languages.\n",
      "\n",
      "Experience working with two or more from the following: web application development, Unix/Linux environment,moile application development,distributed  and parallel systems,machine learnin,in formation retrieval,natural language processing,networking,developin large software systems, and/or security software development.\n",
      "\n",
      "working proficiency and communication skills in verbal and written english.\n",
      "\n",
      "preffered qualifications:\n",
      "\n",
      "Masters's,phD degree,further education or experience in enginnering,computer science or other related technical field.\n",
      "\n",
      "4 years of relevant worl experience in software development.\n",
      "\n",
      "Experience with one or more general purpose programming language including but not limited to: Java.c/c++,c#,objective c,Python ,JavaScript,or Go.\n"
     ]
    }
   ],
   "source": [
    "# Store the job description into a variable\n",
    "job_description = docx2txt.process(\"GOOGLE.docx\")\n",
    "\n",
    "# Print the job description\n",
    "print(job_description)"
   ]
  },
  {
   "cell_type": "code",
   "execution_count": 3,
   "metadata": {},
   "outputs": [
    {
     "name": "stdout",
     "output_type": "stream",
     "text": [
      "Parsing Page 2: 2/2...\n",
      "Creating Page 2: 2/2...\n",
      "--------------------------------------------------\n",
      "Terminated in 3.587808300000006s.\n",
      "Alice Clark \n",
      "AI / Machine Learning \n",
      " \n",
      "\n",
      "Delhi, India Email me on Indeed \n",
      "\n",
      "• \n",
      "\n",
      "• \n",
      "\n",
      "• \n",
      "\n",
      "20+ years of experience in data handling, design, and development \n",
      "\n",
      "Data Warehouse: Data analysis, star/snow flake scema data modelling and design specific to data warehousing and business intelligence \n",
      "\n",
      "Database: Experience in database designing, scalability, back-up and recovery, writing and optimizing SQL code and Stored Procedures, creating functions, views, triggers and indexes. Cloud platform: Worked on Microsoft Azure cloud services like Document DB, SQL Azure, Stream Analytics, Event hub, Power BI, Web Job, Web App, Power BI, Azure data lake analytics(U-SQL) \n",
      "\n",
      "Willing to relocate anywhere \n",
      "\n",
      "WORK EXPERIENCE \n",
      "\n",
      "Software Engineer \n",
      "\n",
      "Microsoft – Bangalore, Karnataka \n",
      "\n",
      "January 2000 to Present \n",
      "\n",
      "1. Microsoft Rewards Live dashboards: \n",
      "\n",
      "Description: - Microsoft rewards is loyalty program that rewards Users for browsing and shopping online. Microsoft Rewards members can earn points when searching with Bing, browsing with Microsoft Edge and making purchases at the Xbox Store, the Windows Store and the Microsoft Store. Plus, user can pick up bonus points for taking daily quizzes and tours on the Microsoft rewards website. Rewards live dashboards gives a live picture of usage world-wide and by \n",
      "markets like US, Canada, Australia, new user registration count, top/bottom performing rewards offers, orders stats and weekly trends of user activities, orders and new user registrations. the PBI tiles gets refreshed in different frequencies starting from 5 seconds to 30 minutes. \n",
      "Technology/Tools used \n",
      " \n",
      "\n",
      "EDUCATION \n",
      "\n",
      "Indian Institute of Technology – Mumbai \n",
      "\n",
      "2001 \n",
      "\n",
      "SKILLS \n",
      "\n",
      "Machine Learning, Natural Language Processing, and Big Data Handling \n",
      "\n",
      "\n",
      "\n",
      "\n",
      "\n",
      "ADDITIONAL INFORMATION \n",
      "\n",
      "Professional Skills \n",
      "\n",
      "\n",
      "\n",
      "• Excellent analytical, problem solving, communication, knowledge transfer and interpersonal skills with ability to interact with individuals at all the levels \n",
      "• Quick learner and maintains cordial relationship with project manager and team members and good performer both in team and independent job environments \n",
      "• Positive attitude towards superiors &amp; peers \n",
      "• Supervised junior developers throughout project lifecycle and provided technical assistance\n"
     ]
    }
   ],
   "source": [
    "# code to convert pdf into doc\n",
    "from pdf2docx import Converter\n",
    "\n",
    "pdf_file = '../Alice Clark CV.pdf'\n",
    "docx_file = 'sample.docx'\n",
    "\n",
    "# convert pdf to docx\n",
    "cv = Converter(pdf_file)\n",
    "cv.convert(docx_file, start=0, end=None)\n",
    "cv.close()\n",
    "resume = docx2txt.process(\"sample.docx\")\n",
    "print(resume)\n",
    "resume = docx2txt.process(\"GOOGLE.docx\")"
   ]
  },
  {
   "cell_type": "code",
   "execution_count": 4,
   "metadata": {},
   "outputs": [],
   "source": [
    "# A list of text\n",
    "text = [job_description,resume]"
   ]
  },
  {
   "cell_type": "code",
   "execution_count": 5,
   "metadata": {},
   "outputs": [],
   "source": [
    "from sklearn.feature_extraction.text import CountVectorizer\n",
    "cv = CountVectorizer()\n",
    "count_matrix = cv.fit_transform(text)"
   ]
  },
  {
   "cell_type": "code",
   "execution_count": 6,
   "metadata": {},
   "outputs": [
    {
     "name": "stdout",
     "output_type": "stream",
     "text": [
      "\n",
      "Similarity Scores:\n",
      "[[1. 1.]\n",
      " [1. 1.]]\n"
     ]
    }
   ],
   "source": [
    "from sklearn.metrics.pairwise import cosine_similarity\n",
    "\n",
    "#Print the similarity scores\n",
    "print(\"\\nSimilarity Scores:\")\n",
    "print(cosine_similarity(count_matrix))"
   ]
  },
  {
   "cell_type": "code",
   "execution_count": 7,
   "metadata": {},
   "outputs": [
    {
     "name": "stdout",
     "output_type": "stream",
     "text": [
      "Your resume matches about 100.0% of the job description.\n"
     ]
    }
   ],
   "source": [
    "#get the match percentage\n",
    "matchPercentage = cosine_similarity(count_matrix)[0][1] * 100\n",
    "matchPercentage = round(matchPercentage, 2) # round to two decimal\n",
    "print(\"Your resume matches about \"+ str(matchPercentage)+ \"% of the job description.\")"
   ]
  }
 ],
 "metadata": {
  "kernelspec": {
   "display_name": "Python 3",
   "language": "python",
   "name": "python3"
  },
  "language_info": {
   "codemirror_mode": {
    "name": "ipython",
    "version": 3
   },
   "file_extension": ".py",
   "mimetype": "text/x-python",
   "name": "python",
   "nbconvert_exporter": "python",
   "pygments_lexer": "ipython3",
   "version": "3.8.5"
  }
 },
 "nbformat": 4,
 "nbformat_minor": 4
}
