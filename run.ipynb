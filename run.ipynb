{
 "cells": [
  {
   "cell_type": "code",
   "execution_count": 2,
   "metadata": {},
   "outputs": [
    {
     "name": "stdout",
     "output_type": "stream",
     "text": [
      "NAME                          - Alice Clark\n",
      "DESIGNATION                   - AI / Machine Learning\n",
      "DESIGNATION                   - Software Engineer\n",
      "COMPANIES WORKED AT           - Microsoft\n",
      "COMPANIES WORKED AT           - Microsoft\n",
      "COMPANIES WORKED AT           - Microsoft\n",
      "COMPANIES WORKED AT           - Microsoft\n",
      "COMPANIES WORKED AT           - Microsoft\n",
      "COMPANIES WORKED AT           - Microsoft\n",
      "COLLEGE NAME                  - Indian Institute of Technology\n"
     ]
    }
   ],
   "source": [
    "import sys\n",
    "import fitz\n",
    "import spacy\n",
    "import numpy as np\n",
    "\n",
    "nlp_model = spacy.load('../nlp_model')\n",
    "name = '../Alice Clark cv.pdf'\n",
    "\n",
    "\n",
    "def showResult(fname):\n",
    "    doc = fitz.open(fname)\n",
    "    text = \"\"\n",
    "    for page in doc:\n",
    "        text = text + str(page.getText())\n",
    "\n",
    "    tx = \" \".join(text.split('\\n'))\n",
    "    # print(tx)\n",
    "\n",
    "    doc = nlp_model(tx)\n",
    "\n",
    "    for ent in doc.ents:\n",
    "        print(f'{ent.label_.upper():{30}}- {ent.text}')\n",
    "\n",
    "\n",
    "showResult(name)\n"
   ]
  },
  {
   "cell_type": "code",
   "execution_count": null,
   "metadata": {},
   "outputs": [],
   "source": [
    "self.t1.configure(state='disabled')\n",
    "        self.t2.configure(state='disabled')\n",
    "        self.t3.configure(state='disabled')\n",
    "        self.t4.configure(state='disabled')\n",
    "        self.t5.configure(state='disabled')\n",
    "        self.t6.configure(state='disabled')\n",
    "        self.t7.configure(state='disabled')\n",
    "        self.t8.configure(state='disabled')\n",
    "        self.t9.configure(state='disabled')\n"
   ]
  },
  {
   "cell_type": "code",
   "execution_count": null,
   "metadata": {},
   "outputs": [],
   "source": []
  }
 ],
 "metadata": {
  "kernelspec": {
   "display_name": "Python 3",
   "language": "python",
   "name": "python3"
  }
 },
 "nbformat": 4,
 "nbformat_minor": 5
}
